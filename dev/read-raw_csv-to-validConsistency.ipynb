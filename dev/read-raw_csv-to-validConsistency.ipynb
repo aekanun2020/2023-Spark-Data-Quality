{
 "cells": [
  {
   "cell_type": "code",
   "execution_count": 1,
   "id": "8ee1ddec",
   "metadata": {},
   "outputs": [],
   "source": [
    "#! apt-get update -y"
   ]
  },
  {
   "cell_type": "code",
   "execution_count": 2,
   "id": "f19079de",
   "metadata": {},
   "outputs": [],
   "source": [
    "#! apt-get install wget -y"
   ]
  },
  {
   "cell_type": "code",
   "execution_count": 3,
   "id": "ebda6033",
   "metadata": {},
   "outputs": [],
   "source": [
    "#! apt-get install unzip -y"
   ]
  },
  {
   "cell_type": "code",
   "execution_count": 4,
   "id": "4e6882d1",
   "metadata": {},
   "outputs": [],
   "source": [
    "#! wget LoanStats_web.csv.zips://storage.googleapis.com/19sep/LoanStats_web.csv.zip"
   ]
  },
  {
   "cell_type": "code",
   "execution_count": 5,
   "id": "7607bebb",
   "metadata": {},
   "outputs": [],
   "source": [
    "#! unzip LoanStats_web.csv.zip"
   ]
  },
  {
   "cell_type": "code",
   "execution_count": 6,
   "id": "d1615888",
   "metadata": {},
   "outputs": [],
   "source": [
    "from pyspark.sql import functions as sparkf"
   ]
  },
  {
   "cell_type": "code",
   "execution_count": 7,
   "id": "2f087767",
   "metadata": {},
   "outputs": [
    {
     "name": "stderr",
     "output_type": "stream",
     "text": [
      "Ivy Default Cache set to: /root/.ivy2/cache\n",
      "The jars for the packages stored in: /root/.ivy2/jars\n",
      ":: loading settings :: url = jar:file:/usr/local/lib/python3.9/dist-packages/pyspark/jars/ivy-2.4.0.jar!/org/apache/ivy/core/settings/ivysettings.xml\n",
      "com.microsoft.azure#spark-mssql-connector added as a dependency\n",
      ":: resolving dependencies :: org.apache.spark#spark-submit-parent-ec9ffb05-a971-453e-a315-c58470940f13;1.0\n",
      "\tconfs: [default]\n",
      "\tfound com.microsoft.azure#spark-mssql-connector;1.0.2 in central\n",
      "\tfound com.microsoft.sqlserver#mssql-jdbc;8.4.1.jre8 in central\n",
      ":: resolution report :: resolve 100ms :: artifacts dl 2ms\n",
      "\t:: modules in use:\n",
      "\tcom.microsoft.azure#spark-mssql-connector;1.0.2 from central in [default]\n",
      "\tcom.microsoft.sqlserver#mssql-jdbc;8.4.1.jre8 from central in [default]\n",
      "\t---------------------------------------------------------------------\n",
      "\t|                  |            modules            ||   artifacts   |\n",
      "\t|       conf       | number| search|dwnlded|evicted|| number|dwnlded|\n",
      "\t---------------------------------------------------------------------\n",
      "\t|      default     |   2   |   0   |   0   |   0   ||   2   |   0   |\n",
      "\t---------------------------------------------------------------------\n",
      ":: retrieving :: org.apache.spark#spark-submit-parent-ec9ffb05-a971-453e-a315-c58470940f13\n",
      "\tconfs: [default]\n",
      "\t0 artifacts copied, 2 already retrieved (0kB/3ms)\n",
      "23/09/24 09:47:49 WARN NativeCodeLoader: Unable to load native-hadoop library for your platform... using builtin-java classes where applicable\n",
      "Using Spark's default log4j profile: org/apache/spark/log4j-defaults.properties\n",
      "Setting default log level to \"WARN\".\n",
      "To adjust logging level use sc.setLogLevel(newLevel). For SparkR, use setLogLevel(newLevel).\n"
     ]
    }
   ],
   "source": [
    "from pyspark.sql import SparkSession\n",
    "\n",
    "# สร้าง SparkSession ใหม่\n",
    "spark = (\n",
    "    SparkSession.builder\n",
    "        # กำหนดชื่อแอปพลิเคชัน\n",
    "        .appName(\"Integration of onlinePassenger and Station\")\n",
    "        # กำหนด URL ของ Spark master\n",
    "        .master(\"spark://spark-master:7077\")\n",
    "        # กำหนดจำนวน memory ที่ executor จะใช้\n",
    "        .config(\"spark.executor.memory\", \"1000m\")\n",
    "        # กำหนดจำนวน cores ที่ executor จะใช้\n",
    "        .config(\"spark.executor.cores\", \"2\")\n",
    "        # กำหนดจำนวน cores สูงสุดที่ Spark จะใช้\n",
    "        .config(\"spark.cores.max\", \"6\")\n",
    "        # สร้าง SparkSession ถ้ายังไม่มี, ถ้ามีแล้วจะใช้ SparkSession ที่มีอยู่\n",
    "        .config(\"spark.jars.packages\", \"com.microsoft.azure:spark-mssql-connector:1.0.2\") \\\n",
    "        .config(\"spark.sql.debug.maxToStringFields\", 200) \\\n",
    "\n",
    "        .getOrCreate()\n",
    ")"
   ]
  },
  {
   "cell_type": "code",
   "execution_count": 8,
   "id": "62cea015",
   "metadata": {},
   "outputs": [
    {
     "name": "stderr",
     "output_type": "stream",
     "text": [
      "                                                                                \r"
     ]
    }
   ],
   "source": [
    "# ใช้ SparkSession ที่เราสร้างขึ้น (spark) ในการอ่านข้อมูล\n",
    "\n",
    "loanStat_raw_df = (\n",
    "    spark.read  # ใช้วิธีการอ่านข้อมูล (read method)\n",
    "        .format(\"csv\")  # กำหนดรูปแบบของไฟล์ที่จะอ่านเป็น CSV\n",
    "        .option(\"header\", \"true\")  # กำหนดว่าไฟล์ CSV มี header ที่บรรทัดแรก\n",
    "        .load(\"LoanStats_web.csv\")  # โหลดข้อมูลจากไฟล์\n",
    ")"
   ]
  },
  {
   "cell_type": "code",
   "execution_count": 10,
   "id": "f6c1a374",
   "metadata": {},
   "outputs": [
    {
     "name": "stdout",
     "output_type": "stream",
     "text": [
      "root\n",
      " |-- id: string (nullable = true)\n",
      " |-- member_id: string (nullable = true)\n",
      " |-- loan_amnt: string (nullable = true)\n",
      " |-- funded_amnt: string (nullable = true)\n",
      " |-- funded_amnt_inv: string (nullable = true)\n",
      " |-- term: string (nullable = true)\n",
      " |-- int_rate: string (nullable = true)\n",
      " |-- installment: string (nullable = true)\n",
      " |-- grade: string (nullable = true)\n",
      " |-- sub_grade: string (nullable = true)\n",
      " |-- emp_title: string (nullable = true)\n",
      " |-- emp_length: string (nullable = true)\n",
      " |-- home_ownership: string (nullable = true)\n",
      " |-- annual_inc: string (nullable = true)\n",
      " |-- verification_status: string (nullable = true)\n",
      " |-- issue_d: string (nullable = true)\n",
      " |-- loan_status: string (nullable = true)\n",
      " |-- pymnt_plan: string (nullable = true)\n",
      " |-- url: string (nullable = true)\n",
      " |-- desc: string (nullable = true)\n",
      " |-- purpose: string (nullable = true)\n",
      " |-- title: string (nullable = true)\n",
      " |-- zip_code: string (nullable = true)\n",
      " |-- addr_state: string (nullable = true)\n",
      " |-- dti: string (nullable = true)\n",
      " |-- delinq_2yrs: string (nullable = true)\n",
      " |-- earliest_cr_line: string (nullable = true)\n",
      " |-- inq_last_6mths: string (nullable = true)\n",
      " |-- mths_since_last_delinq: string (nullable = true)\n",
      " |-- mths_since_last_record: string (nullable = true)\n",
      " |-- open_acc: string (nullable = true)\n",
      " |-- pub_rec: string (nullable = true)\n",
      " |-- revol_bal: string (nullable = true)\n",
      " |-- revol_util: string (nullable = true)\n",
      " |-- total_acc: string (nullable = true)\n",
      " |-- initial_list_status: string (nullable = true)\n",
      " |-- out_prncp: string (nullable = true)\n",
      " |-- out_prncp_inv: string (nullable = true)\n",
      " |-- total_pymnt: string (nullable = true)\n",
      " |-- total_pymnt_inv: string (nullable = true)\n",
      " |-- total_rec_prncp: string (nullable = true)\n",
      " |-- total_rec_int: string (nullable = true)\n",
      " |-- total_rec_late_fee: string (nullable = true)\n",
      " |-- recoveries: string (nullable = true)\n",
      " |-- collection_recovery_fee: string (nullable = true)\n",
      " |-- last_pymnt_d: string (nullable = true)\n",
      " |-- last_pymnt_amnt: string (nullable = true)\n",
      " |-- next_pymnt_d: string (nullable = true)\n",
      " |-- last_credit_pull_d: string (nullable = true)\n",
      " |-- collections_12_mths_ex_med: string (nullable = true)\n",
      " |-- mths_since_last_major_derog: string (nullable = true)\n",
      " |-- policy_code: string (nullable = true)\n",
      " |-- application_type: string (nullable = true)\n",
      " |-- annual_inc_joint: string (nullable = true)\n",
      " |-- dti_joint: string (nullable = true)\n",
      " |-- verification_status_joint: string (nullable = true)\n",
      " |-- acc_now_delinq: string (nullable = true)\n",
      " |-- tot_coll_amt: string (nullable = true)\n",
      " |-- tot_cur_bal: string (nullable = true)\n",
      " |-- open_acc_6m: string (nullable = true)\n",
      " |-- open_act_il: string (nullable = true)\n",
      " |-- open_il_12m: string (nullable = true)\n",
      " |-- open_il_24m: string (nullable = true)\n",
      " |-- mths_since_rcnt_il: string (nullable = true)\n",
      " |-- total_bal_il: string (nullable = true)\n",
      " |-- il_util: string (nullable = true)\n",
      " |-- open_rv_12m: string (nullable = true)\n",
      " |-- open_rv_24m: string (nullable = true)\n",
      " |-- max_bal_bc: string (nullable = true)\n",
      " |-- all_util: string (nullable = true)\n",
      " |-- total_rev_hi_lim: string (nullable = true)\n",
      " |-- inq_fi: string (nullable = true)\n",
      " |-- total_cu_tl: string (nullable = true)\n",
      " |-- inq_last_12m: string (nullable = true)\n",
      " |-- acc_open_past_24mths: string (nullable = true)\n",
      " |-- avg_cur_bal: string (nullable = true)\n",
      " |-- bc_open_to_buy: string (nullable = true)\n",
      " |-- bc_util: string (nullable = true)\n",
      " |-- chargeoff_within_12_mths: string (nullable = true)\n",
      " |-- delinq_amnt: string (nullable = true)\n",
      " |-- mo_sin_old_il_acct: string (nullable = true)\n",
      " |-- mo_sin_old_rev_tl_op: string (nullable = true)\n",
      " |-- mo_sin_rcnt_rev_tl_op: string (nullable = true)\n",
      " |-- mo_sin_rcnt_tl: string (nullable = true)\n",
      " |-- mort_acc: string (nullable = true)\n",
      " |-- mths_since_recent_bc: string (nullable = true)\n",
      " |-- mths_since_recent_bc_dlq: string (nullable = true)\n",
      " |-- mths_since_recent_inq: string (nullable = true)\n",
      " |-- mths_since_recent_revol_delinq: string (nullable = true)\n",
      " |-- num_accts_ever_120_pd: string (nullable = true)\n",
      " |-- num_actv_bc_tl: string (nullable = true)\n",
      " |-- num_actv_rev_tl: string (nullable = true)\n",
      " |-- num_bc_sats: string (nullable = true)\n",
      " |-- num_bc_tl: string (nullable = true)\n",
      " |-- num_il_tl: string (nullable = true)\n",
      " |-- num_op_rev_tl: string (nullable = true)\n",
      " |-- num_rev_accts: string (nullable = true)\n",
      " |-- num_rev_tl_bal_gt_0: string (nullable = true)\n",
      " |-- num_sats: string (nullable = true)\n",
      " |-- num_tl_120dpd_2m: string (nullable = true)\n",
      " |-- num_tl_30dpd: string (nullable = true)\n",
      " |-- num_tl_90g_dpd_24m: string (nullable = true)\n",
      " |-- num_tl_op_past_12m: string (nullable = true)\n",
      " |-- pct_tl_nvr_dlq: string (nullable = true)\n",
      " |-- percent_bc_gt_75: string (nullable = true)\n",
      " |-- pub_rec_bankruptcies: string (nullable = true)\n",
      " |-- tax_liens: string (nullable = true)\n",
      " |-- tot_hi_cred_lim: string (nullable = true)\n",
      " |-- total_bal_ex_mort: string (nullable = true)\n",
      " |-- total_bc_limit: string (nullable = true)\n",
      " |-- total_il_high_credit_limit: string (nullable = true)\n",
      " |-- revol_bal_joint: string (nullable = true)\n",
      " |-- sec_app_earliest_cr_line: string (nullable = true)\n",
      " |-- sec_app_inq_last_6mths: string (nullable = true)\n",
      " |-- sec_app_mort_acc: string (nullable = true)\n",
      " |-- sec_app_open_acc: string (nullable = true)\n",
      " |-- sec_app_revol_util: string (nullable = true)\n",
      " |-- sec_app_open_act_il: string (nullable = true)\n",
      " |-- sec_app_num_rev_accts: string (nullable = true)\n",
      " |-- sec_app_chargeoff_within_12_mths: string (nullable = true)\n",
      " |-- sec_app_collections_12_mths_ex_med: string (nullable = true)\n",
      " |-- sec_app_mths_since_last_major_derog: string (nullable = true)\n",
      " |-- hardship_flag: string (nullable = true)\n",
      " |-- hardship_type: string (nullable = true)\n",
      " |-- hardship_reason: string (nullable = true)\n",
      " |-- hardship_status: string (nullable = true)\n",
      " |-- deferral_term: string (nullable = true)\n",
      " |-- hardship_amount: string (nullable = true)\n",
      " |-- hardship_start_date: string (nullable = true)\n",
      " |-- hardship_end_date: string (nullable = true)\n",
      " |-- payment_plan_start_date: string (nullable = true)\n",
      " |-- hardship_length: string (nullable = true)\n",
      " |-- hardship_dpd: string (nullable = true)\n",
      " |-- hardship_loan_status: string (nullable = true)\n",
      " |-- orig_projected_additional_accrued_interest: string (nullable = true)\n",
      " |-- hardship_payoff_balance_amount: string (nullable = true)\n",
      " |-- hardship_last_payment_amount: string (nullable = true)\n",
      " |-- debt_settlement_flag: string (nullable = true)\n",
      " |-- debt_settlement_flag_date: string (nullable = true)\n",
      " |-- settlement_status: string (nullable = true)\n",
      " |-- settlement_date: string (nullable = true)\n",
      " |-- settlement_amount: string (nullable = true)\n",
      " |-- settlement_percentage: string (nullable = true)\n",
      " |-- settlement_term: string (nullable = true)\n",
      "\n"
     ]
    }
   ],
   "source": [
    "loanStat_raw_df.printSchema()"
   ]
  },
  {
   "cell_type": "code",
   "execution_count": 11,
   "id": "54d32c18",
   "metadata": {},
   "outputs": [
    {
     "name": "stdout",
     "output_type": "stream",
     "text": [
      "Unexpected number of columns. Expected: 150, but got: 144\n"
     ]
    },
    {
     "name": "stderr",
     "output_type": "stream",
     "text": [
      "[Stage 1:================================>                          (5 + 4) / 9]\r"
     ]
    },
    {
     "name": "stdout",
     "output_type": "stream",
     "text": [
      "Unexpected number of rows. Expected: 1000, but got: 1432466\n"
     ]
    },
    {
     "name": "stderr",
     "output_type": "stream",
     "text": [
      "                                                                                \r"
     ]
    }
   ],
   "source": [
    "from pyspark.sql import DataFrame\n",
    "\n",
    "def validate_dataframe_shape(df: DataFrame, expected_num_columns: int, expected_num_rows: int):\n",
    "    # ตรวจสอบจำนวน column\n",
    "    actual_num_columns = len(df.columns)\n",
    "    if actual_num_columns != expected_num_columns:\n",
    "        print(f\"Unexpected number of columns. Expected: {expected_num_columns}, but got: {actual_num_columns}\")\n",
    "    else:\n",
    "        print(f\"Number of columns is as expected: {actual_num_columns}\")\n",
    "\n",
    "    # ตรวจสอบจำนวน row\n",
    "    actual_num_rows = df.count()\n",
    "    if actual_num_rows != expected_num_rows:\n",
    "        print(f\"Unexpected number of rows. Expected: {expected_num_rows}, but got: {actual_num_rows}\")\n",
    "    else:\n",
    "        print(f\"Number of rows is as expected: {actual_num_rows}\")\n",
    "\n",
    "# ตัวอย่างการใช้\n",
    "expected_columns = 150\n",
    "expected_rows = 1000\n",
    "validate_dataframe_shape(loanStat_raw_df, expected_columns, expected_rows)\n"
   ]
  },
  {
   "cell_type": "code",
   "execution_count": null,
   "id": "6d42f4ad",
   "metadata": {},
   "outputs": [],
   "source": []
  },
  {
   "cell_type": "code",
   "execution_count": null,
   "id": "79bbcf99",
   "metadata": {},
   "outputs": [],
   "source": []
  }
 ],
 "metadata": {
  "kernelspec": {
   "display_name": "Python 3 (ipykernel)",
   "language": "python",
   "name": "python3"
  },
  "language_info": {
   "codemirror_mode": {
    "name": "ipython",
    "version": 3
   },
   "file_extension": ".py",
   "mimetype": "text/x-python",
   "name": "python",
   "nbconvert_exporter": "python",
   "pygments_lexer": "ipython3",
   "version": "3.9.2"
  }
 },
 "nbformat": 4,
 "nbformat_minor": 5
}
